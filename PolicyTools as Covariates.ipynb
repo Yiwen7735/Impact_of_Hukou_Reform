{
 "cells": [
  {
   "cell_type": "code",
   "execution_count": 1,
   "metadata": {},
   "outputs": [],
   "source": [
    "# This aim of this code is to disaggregate policy scores by one tool or the combination of several tools, which will be\n",
    "# used as covariates of policy reform in the hukou impact research project"
   ]
  },
  {
   "cell_type": "code",
   "execution_count": null,
   "metadata": {},
   "outputs": [],
   "source": [
    "import pandas as pd\n",
    "import numpy as np\n",
    "from functools import reduce"
   ]
  },
  {
   "cell_type": "code",
   "execution_count": 2,
   "metadata": {},
   "outputs": [],
   "source": [
    "# 1. Obtain score by multipling direction (res_all) with magnitude (mag_all) \n",
    "\n",
    "policy = pd.read_excel(\"PolicyData.xlsx\", index_col=0)\n",
    "policy['score'] = policy['res_all'] * policy['mag_all']\n",
    "policy = policy[policy['score'] < 5]\n",
    "\n",
    "\n",
    "#2. Assign weight to each row and generage weighted scores (might not use here, but generate for future purpose)\n",
    "\n",
    "# Note that score is weighted by populatio proportion of a specific migrant group\n",
    "\n",
    "mig_weight = {10:1,20:0.73,21:0.63,22:0.63,23:0.11,30:0.56,31:0.45,32:0.11,33:0.11,40:0.01,41:0.01,42:0.01,\n",
    "          50:1.00,51:0.73,52:0.17,53:0.1,54:0.17,61:0.11,62:0.63,63:0.01,64:0.01,65:0.01}\n",
    "\n",
    "policy['weight'] = [mig_weight[i] for i in policy['mig_group']]\n",
    "policy['wscore'] = policy['score'] * policy['weight']\n",
    "#policy.head()\n",
    "\n",
    "# 3. Disaggregate scores by polity tools\n",
    "\n",
    "policytools = {11:'access', 12:\"ps\", 21:'rp', 22:'collective hukou', 23:'unify', 24:'urbanize city villages',\n",
    "               25:'tax transfer', 30:'public service', 31:'education', 32:'social insur', 33:'medical insur', \n",
    "               34:'pension insur', 35:'unemp insur',36:'housing', 37:'healthcare', 38:'adpat', 39:'welfare', 54:'emp scheme'}\n",
    "\n",
    "# 3.1 Function that returns the scores of <= 2 policy tools combination\n",
    "\n",
    "def scores(t1, t2):\n",
    "    name = policytools[t1]\n",
    "    return policy.loc[(policy['pol_tool'] == t1)|(policy['pol_tool'] == t2), \"score\"].groupby(level=0).agg({np.sum, np.mean}).rename(columns={\"mean\":'as_'+name, \"sum\":'ts_'+name})\n",
    "    \n",
    "#scores(23,24)\n",
    "\n",
    "# 3.2 Function that calculates and formats scores for > 2 policy tools combination\n",
    "\n",
    "def format(series, name):\n",
    "    return series.groupby(level=0).agg({np.sum, np.mean}).rename(columns={\"mean\":'as_'+name, \"sum\":'ts_'+name})\n",
    "\n",
    "itg = policy.loc[((policy['pol_tool'] >=25) & (policy['pol_tool'] <= 39)) | (policy['pol_tool'] == 54), \"score\"]\n",
    "insur = policy.loc[(policy['pol_tool'] >=32) & (policy['pol_tool'] <= 35), \"score\"]\n",
    "ser = policy.loc[((policy['pol_tool'] >=36) & (policy['pol_tool'] <=39)) | ((policy['pol_tool'] ==30) | (policy['pol_tool'] ==31) | policy['pol_tool'] == 54), \"score\"]\n",
    "\n",
    "# 4. Merge the disaggregated scores in one table\n",
    "\n",
    "dfs = [scores(11,11), scores(12,12), scores(21,22), scores(23,24), format(itg,\"itg\"), format(insur,\"insur\"), format(ser,\"ser\")]\n",
    "\n",
    "df_tools = reduce(lambda left,right: pd.merge(left, right, how='left',left_index=True, right_index=True).fillna(0), dfs)\n",
    "\n",
    "df_tools.describe().T.to_excel('PolicyTools_summary.xlsx') # Descriptive statistics of the scores distribution\n",
    "\n",
    "df_tools.to_excel('PolicyTools.xlsx')"
   ]
  }
 ],
 "metadata": {
  "kernelspec": {
   "display_name": "Python 3",
   "language": "python",
   "name": "python3"
  },
  "language_info": {
   "codemirror_mode": {
    "name": "ipython",
    "version": 3
   },
   "file_extension": ".py",
   "mimetype": "text/x-python",
   "name": "python",
   "nbconvert_exporter": "python",
   "pygments_lexer": "ipython3",
   "version": "3.7.2"
  }
 },
 "nbformat": 4,
 "nbformat_minor": 2
}
